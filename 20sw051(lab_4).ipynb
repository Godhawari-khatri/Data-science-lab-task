{
  "nbformat": 4,
  "nbformat_minor": 0,
  "metadata": {
    "colab": {
      "provenance": [],
      "authorship_tag": "ABX9TyPxhscTEYR34iUOTbjD4cth",
      "include_colab_link": true
    },
    "kernelspec": {
      "name": "python3",
      "display_name": "Python 3"
    },
    "language_info": {
      "name": "python"
    }
  },
  "cells": [
    {
      "cell_type": "markdown",
      "metadata": {
        "id": "view-in-github",
        "colab_type": "text"
      },
      "source": [
        "<a href=\"https://colab.research.google.com/github/Godhawari-khatri/Data-science-lab-task/blob/main/20sw051(lab_4).ipynb\" target=\"_parent\"><img src=\"https://colab.research.google.com/assets/colab-badge.svg\" alt=\"Open In Colab\"/></a>"
      ]
    },
    {
      "cell_type": "code",
      "execution_count": 1,
      "metadata": {
        "colab": {
          "base_uri": "https://localhost:8080/"
        },
        "id": "CPofOskCTcnV",
        "outputId": "0caf0fd3-543d-472d-f53c-ce7431d0afbf"
      },
      "outputs": [
        {
          "output_type": "stream",
          "name": "stdout",
          "text": [
            "[[ 2  4  6  8]\n",
            " [10 12 14 16]\n",
            " [18 20 22 24]\n",
            " [26 28 30 32]]\n"
          ]
        }
      ],
      "source": [
        "#task-1\n",
        "import numpy as np\n",
        "\n",
        "\n",
        "even_numbers = np.arange(2, 33, 2)\n",
        "\n",
        "\n",
        "X = even_numbers.reshape(4, 4)\n",
        "\n",
        "print(X)\n"
      ]
    },
    {
      "cell_type": "code",
      "source": [
        "#task-2\n",
        "import numpy as np\n",
        "\n",
        "\n",
        "X = np.arange(1, 26).reshape(5, 5)\n",
        "\n",
        "\n",
        "Y = X[X % 2 != 0]\n",
        "\n",
        "print(\"Original array:\\n\", X)\n",
        "print(\"Array with odd numbers:\\n\", Y)\n"
      ],
      "metadata": {
        "colab": {
          "base_uri": "https://localhost:8080/"
        },
        "id": "tWnwYQBvUmn2",
        "outputId": "fbdd93d2-7f31-4846-9c53-efd0b511c036"
      },
      "execution_count": 2,
      "outputs": [
        {
          "output_type": "stream",
          "name": "stdout",
          "text": [
            "Original array:\n",
            " [[ 1  2  3  4  5]\n",
            " [ 6  7  8  9 10]\n",
            " [11 12 13 14 15]\n",
            " [16 17 18 19 20]\n",
            " [21 22 23 24 25]]\n",
            "Array with odd numbers:\n",
            " [ 1  3  5  7  9 11 13 15 17 19 21 23 25]\n"
          ]
        }
      ]
    },
    {
      "cell_type": "code",
      "source": [
        "#task-3\n",
        "import numpy as np\n",
        "\n",
        "\n",
        "X = np.arange(1, 5).reshape(4, 1) * np.ones((1, 4))\n",
        "\n",
        "print(X)\n"
      ],
      "metadata": {
        "colab": {
          "base_uri": "https://localhost:8080/"
        },
        "id": "QwyFpT92VK_R",
        "outputId": "136751b9-473f-4b2c-8f9c-7458207c563e"
      },
      "execution_count": 3,
      "outputs": [
        {
          "output_type": "stream",
          "name": "stdout",
          "text": [
            "[[1. 1. 1. 1.]\n",
            " [2. 2. 2. 2.]\n",
            " [3. 3. 3. 3.]\n",
            " [4. 4. 4. 4.]]\n"
          ]
        }
      ]
    },
    {
      "cell_type": "code",
      "source": [
        "#task-4\n",
        "from google.colab import drive\n",
        "drive.mount('/NumPy.ipnyb')\n",
        "\n",
        "import numpy as np\n",
        "\n",
        "# Create a 1000x20 ndarray with random integers in the range [0, 5001)\n",
        "X = np.random.randint(0, 5001, size=(1000, 20))\n",
        "# Print the shape of X\n",
        "print(X.shape)\n",
        "\n",
        "# Calculate the average of the values in each column of X\n",
        "ave_cols = np.mean(X, axis=0)\n",
        "\n",
        "# Calculate the standard deviation of the values in each column of X\n",
        "std_cols = np.std(X, axis=0)\n",
        "\n",
        "\n",
        "print(\"Shape of ave_cols:\", ave_cols.shape)\n",
        "print(\"Shape of std_cols:\", std_cols.shape)\n",
        "\n",
        "# Mean normalize X\n",
        "X_norm = (X - ave_cols) / std_cols\n",
        "\n",
        "print(\"Mean normalized X:\")\n",
        "print(X_norm)\n",
        "\n",
        "# Print the average of all the values of X_norm\n",
        "ave_all_values = np.mean(X_norm)\n",
        "print(\"Average of all values in X_norm:\", ave_all_values)\n",
        "\n",
        "# Print the average of the minimum value in each column of X_norm\n",
        "ave_min_values = np.mean(np.min(X_norm, axis=0))\n",
        "print(\"Average of minimum values in each column of X_norm:\", ave_min_values)\n",
        "\n",
        "# Print the average of the maximum value in each column of X_norm\n",
        "ave_max_values = np.mean(np.max(X_norm, axis=0))\n",
        "print(\"Average of maximum values in each column of X_norm:\", ave_max_values)\n",
        "\n",
        "# We create a random permutation of integers 0 to 4\n",
        "np.random.permutation(5)\n",
        "\n",
        "# Create a random permutation of row indices of X_norm\n",
        "row_indices = np.random.permutation(X_norm.shape[0])\n",
        "\n",
        "print(\"Random permutation of row indices:\", row_indices)\n",
        "\n",
        "\n",
        "# Define the ratios for training, cross-validation, and test sets\n",
        "train_ratio = 0.6\n",
        "cross_val_ratio = 0.2\n",
        "test_ratio = 0.2\n",
        "\n",
        "# Calculate the sizes of each set based on the ratios\n",
        "num_rows = X_norm.shape[0]\n",
        "num_train = int(train_ratio * num_rows)\n",
        "num_cross_val = int(cross_val_ratio * num_rows)\n",
        "num_test = int(test_ratio * num_rows)\n",
        "\n",
        "# Use row_indices to split the data into sets\n",
        "X_train = X_norm[row_indices[:num_train]]\n",
        "X_crossVal = X_norm[row_indices[num_train:num_train + num_cross_val]]\n",
        "X_test = X_norm[row_indices[num_train + num_cross_val:]]\n",
        "\n",
        "print(\"X_train shape:\", X_train.shape)\n",
        "print(\"X_crossVal shape:\", X_crossVal.shape)\n",
        "print(\"X_test shape:\", X_test.shape)"
      ],
      "metadata": {
        "colab": {
          "base_uri": "https://localhost:8080/"
        },
        "id": "8vPAjQr8V8-0",
        "outputId": "3fce39cd-7362-4fdd-8ec7-02e98294fce1"
      },
      "execution_count": 6,
      "outputs": [
        {
          "output_type": "stream",
          "name": "stdout",
          "text": [
            "Mounted at /NumPy.ipnyb\n",
            "(1000, 20)\n",
            "Shape of ave_cols: (20,)\n",
            "Shape of std_cols: (20,)\n",
            "Mean normalized X:\n",
            "[[ 0.31249102 -1.42944615  0.02291042 ... -0.75197564 -0.27574692\n",
            "   0.97816335]\n",
            " [-0.58423825  1.13127977 -0.27798726 ...  1.02063011  1.2024569\n",
            "  -0.97414936]\n",
            " [ 0.75911645 -0.70361993 -0.79954322 ...  0.73138231  1.47499425\n",
            "   0.5769002 ]\n",
            " ...\n",
            " [ 0.85164166  0.86245525  0.84813093 ... -1.70516269  0.54324855\n",
            "   1.54895506]\n",
            " [-1.04338589  1.59310652 -0.41702273 ... -0.84302216 -0.76686752\n",
            "   1.42522656]\n",
            " [ 0.04813328  1.71304362 -1.58602749 ... -1.20090503  0.07011265\n",
            "  -0.2816799 ]]\n",
            "Average of all values in X_norm: -2.842170943040401e-18\n",
            "Average of minimum values in each column of X_norm: -1.7349156366038119\n",
            "Average of maximum values in each column of X_norm: 1.723085297784495\n",
            "Random permutation of row indices: [826 802 851 588  88 154 309 968 880  85 598 461 447 446 776 202 874 728\n",
            " 388 601 580 127 667 303 476 267 487 543 654 615  62 909   6 937  21 529\n",
            " 917 829 225 987 687 332 785 972 962 260 823  12 409 733 716 736 191 959\n",
            " 832 978 385 179 419 892  45 203 849 983 436 294 339 533 643 477 342 872\n",
            " 133 497 756 180 709 628 718 963 438 338 948 620 511 884 790 955 724 683\n",
            " 934  37 518 635 384 825  74 661 659 571 555 366 132 349 198 416   7 707\n",
            " 759  48 582  54 109 651 569 242 289 876 500 523 479 977 810 595 636 765\n",
            " 731 752 670 283 778  22  24 758  79 604 367  28 589  73 541  18 381 696\n",
            " 975 897 304 539 727  42 311 357 657 676 784 607 725 442 675 228  91 431\n",
            " 124 655 106  36  63 988 865  72 549 206 781  32 886 997 426 281 514 927\n",
            " 208 945 327 729 103  44 450 406 282 360 924 970 478 519 465  59 404 650\n",
            " 946 613 986 649 854 484 316 691 491 170 881 982 939 269 415 744 482 308\n",
            " 560 974 216 545 276 648 480 567 583 789 174 314 459  65 184 182 811 245\n",
            " 509 414 903 578 581 791 905 120 471 194 949 926 617 218 492 695 947 698\n",
            "  71 382 953 600 399 425 147 473 991  87 139 530 104   2 345 297 554 531\n",
            " 224 618 793 394   5 271 188 990 155 840 153 136 329 443  43 912 768 272\n",
            " 215 844 846 341 141 315 757 325 504 247 720 888 835 113 870 159 321 820\n",
            " 857 237 556  30 900 422 799 679 704 965 850 843 577 512 663 401 885 417\n",
            " 754   3 863 494 973 668 833 908 708  33 408 688 117 148 537 152 344 827\n",
            " 236 251  51  78 441 462 797  89  52 372 918 653 387 960 412 172 684 910\n",
            " 517 270 660 859 410 574 838 145  47 889 105 807 356 966 158 836 503 686\n",
            " 193 702  13 411 911 632 626 621 954 522 457   0 817 273 891 258 755 633\n",
            "  14 981  23 792 129 980 210 645 397 906 575 619 296  82 255 738 710 774\n",
            " 611 472 102 919 298 313  49 285  10 890 812  76 723 721 538 901  17 346\n",
            " 189 971 711 932 769 996 453 263 956 734 749 167  75 119 984 163 185 445\n",
            " 128 162 420  38 544 893 243 490 121 677 714  31 317 773 131 782 178 775\n",
            " 805 226 681  92 950 231 951 665 278 746 751 584 333 690 348  11 717 647\n",
            "  25 673 839 200  27 118 171 246 557 201 856 392 286 330   9 899 389 439\n",
            " 671 254 845 867 630 546 942 290 958 616 570 205 831 895 770 355 590 183\n",
            " 730 407 795 551 449 125 161 310  58 428 824  29 847 743 114 299 860 306\n",
            " 213 818 883 658 380 957 454 712 534 126 169 241 837 562 527 440 936 526\n",
            " 423 336 322 363 855 568 371 882 680 196 434 547 343 264 229 157 920 219\n",
            " 814 742 875 904 277 468 952 587 116  41 646 122 142 741 324 915 943 376\n",
            " 334 291 612 922 424 564 629 535  64 175 929 732 907 432 168 295 460   4\n",
            " 464 475 796  61 499 320 192 794 301 697 879 821 694 305 204 212 483 783\n",
            " 532 565 230 259 766 861 747 763 637 373 579  83 437 209 808 429 513 323\n",
            " 993 933 536 486 930 722   8 873 115  98 495 337 916 674   1 368 566 266\n",
            "  77 706 199 207 780 592 300 181 150 485 398 253 520 137 248  93 841 809\n",
            " 221 693 801 938 678 777 985 378 610 474 488 788 638 976 750 521 292 112\n",
            " 760 507 233 586 227 642 508 302 692 146 458 994 186 395 700 866  16 787\n",
            " 265 762 214 427 386 627 815 238 444 798 107 287 496 448 998 262 187  67\n",
            " 374 240 931 268 605 151 108 498 318 819 593 252 669 433 177 540 868 624\n",
            " 280 358 467 623  84 599 705 197 256 779 652  19 666 232 585 625 552 223\n",
            " 501  70 350 969  94 405 606  97 764  69 160 771 608 550 921 100 340 515\n",
            " 377 274 640  95 848 383 430 864 699 435 220 505 639 641 351 190  99 288\n",
            " 572  86 685 510 166 279 456 156 992 375 244 275 594 173 489  39 284  60\n",
            " 506 576 944 110 803 393 239  66 361  80 524 737 713 370 217 335 176 896\n",
            " 364 261  56 222 362  50 451 481 753 813 682 740 701 396 195 995 111 502\n",
            " 138 745 609 365  55 928 664 312 391 542 761 842 887 719 703 421 402 101\n",
            "  46 452 961 894 369 352 877 800 516 816 561 559 528 858 999 400 563 923\n",
            " 390 869 235  57  26 164 689 548 319 140 469 603 786 940 597 726 602 828\n",
            " 925 353  68 249 941 135 902 234 130 165 293 871 822 772  90 326 735 935\n",
            " 466 144 853 898 347  35  20 525 413 715 591 149 767 257 558 964  15 596\n",
            " 250  81 804 739 211  53 493 878 979 806 967 359 553  96 463 989  40 672\n",
            " 403 914 631 455 634 354 328 662 307 418 123 134 573 830  34 644 913 614\n",
            " 852 622 656 748 834 331 862 143 379 470]\n",
            "X_train shape: (600, 20)\n",
            "X_crossVal shape: (200, 20)\n",
            "X_test shape: (200, 20)\n"
          ]
        }
      ]
    }
  ]
}