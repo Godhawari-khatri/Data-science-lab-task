{
  "nbformat": 4,
  "nbformat_minor": 0,
  "metadata": {
    "colab": {
      "provenance": [],
      "authorship_tag": "ABX9TyM2+KZMnu7BHz+dDWMAlnf4",
      "include_colab_link": true
    },
    "kernelspec": {
      "name": "python3",
      "display_name": "Python 3"
    },
    "language_info": {
      "name": "python"
    }
  },
  "cells": [
    {
      "cell_type": "markdown",
      "metadata": {
        "id": "view-in-github",
        "colab_type": "text"
      },
      "source": [
        "<a href=\"https://colab.research.google.com/github/Godhawari-khatri/Data-science-lab-task/blob/main/20sw051(lab3).ipynb\" target=\"_parent\"><img src=\"https://colab.research.google.com/assets/colab-badge.svg\" alt=\"Open In Colab\"/></a>"
      ]
    },
    {
      "cell_type": "code",
      "execution_count": null,
      "metadata": {
        "colab": {
          "base_uri": "https://localhost:8080/"
        },
        "id": "TrrEkeQQqxdS",
        "outputId": "14467c4b-0810-411e-f547-40a9ce1a7ed2"
      },
      "outputs": [
        {
          "output_type": "stream",
          "name": "stdout",
          "text": [
            "Test 1 - Expected result: 10, Actual result: 10.0\n",
            "Test 2 - Expected result: 7123.6902801, Actual result: 7123.690280065897\n"
          ]
        }
      ],
      "source": [
        "# task-1\n",
        "def population_density(population, land_area):\n",
        "    if land_area == 0:\n",
        "        raise ValueError(\"Land area cannot be zero.\")\n",
        "    density = population / land_area\n",
        "    return density\n",
        "\n",
        "# Test cases for the function\n",
        "test1 = population_density(10, 1)\n",
        "expected_result1 = 10\n",
        "print(\"Test 1 - Expected result: {}, Actual result: {}\".format(expected_result1, test1))\n",
        "\n",
        "test2 = population_density(864816, 121.4)\n",
        "expected_result2 = 7123.6902801\n",
        "print(\"Test 2 - Expected result: {}, Actual result: {}\".format(expected_result2, test2))\n"
      ]
    },
    {
      "cell_type": "code",
      "source": [
        "# task-2\n",
        "def readable_timedelta(days):\n",
        "    weeks = days // 7\n",
        "    remaining_days = days % 7\n",
        "    return \"{} week(s) and {} day(s)\".format(weeks, remaining_days)\n",
        "\n",
        "# Test the function\n",
        "print(readable_timedelta(20))\n",
        "\n"
      ],
      "metadata": {
        "colab": {
          "base_uri": "https://localhost:8080/"
        },
        "id": "D0ZbJ-oquN3z",
        "outputId": "0ff8f776-f3e6-4580-f9e2-08ec46276911"
      },
      "execution_count": 52,
      "outputs": [
        {
          "output_type": "stream",
          "name": "stdout",
          "text": [
            "2 week(s) and 6 day(s)\n"
          ]
        }
      ]
    },
    {
      "cell_type": "code",
      "source": [
        "# task-3\n",
        "numbers = [[34, 63, 88, 71, 29],\n",
        "           [90, 78, 51, 27, 45],\n",
        "           [63, 37, 85, 46, 22],\n",
        "           [51, 22, 34, 11, 18]]\n",
        "\n",
        "averages = list(map(lambda num_list: sum(num_list) / len(num_list), numbers))\n",
        "print(averages)\n"
      ],
      "metadata": {
        "colab": {
          "base_uri": "https://localhost:8080/"
        },
        "id": "F_Zis7Uqu0Jt",
        "outputId": "f9e47899-c1d8-4bd4-f0e6-8a1f5d287275"
      },
      "execution_count": null,
      "outputs": [
        {
          "output_type": "stream",
          "name": "stdout",
          "text": [
            "[57.0, 58.2, 50.6, 27.2]\n"
          ]
        }
      ]
    },
    {
      "cell_type": "code",
      "source": [
        "# task-4\n",
        "cities = [\"hydrabad\", \"Los Angeles\", \"karachi\", \"jammu kashmir\", \"umerkot\", \"rajistan india\"]\n",
        "\n",
        "short_cities = list(filter(lambda name: len(name) < 10, cities))\n",
        "print(short_cities)\n"
      ],
      "metadata": {
        "colab": {
          "base_uri": "https://localhost:8080/"
        },
        "id": "JtsR_mm1vSia",
        "outputId": "81f9042c-2c34-43eb-f83b-d0deb1711538"
      },
      "execution_count": null,
      "outputs": [
        {
          "output_type": "stream",
          "name": "stdout",
          "text": [
            "['hydrabad', 'karachi', 'umerkot']\n"
          ]
        }
      ]
    },
    {
      "cell_type": "code",
      "source": [
        "# task-5\n",
        "# Get and process input for a list of names\n",
        "names_input = input(\"Enter the names of students separated by commas: \")\n",
        "names = names_input.split(',')\n",
        "\n",
        "# Get and process input for a list of the number of assignments\n",
        "assignments_input = input(\"Enter the number of missing assignments for each student separated by commas: \")\n",
        "assignments = [int(x) for x in assignments_input.split(',')]\n",
        "\n",
        "# Get and process input for a list of grades\n",
        "grades_input = input(\"Enter the current grades of each student separated by commas: \")\n",
        "grades = [float(x) for x in grades_input.split(',')]\n",
        "\n",
        "# Message string to be used for each student\n",
        "# Using triple quotes for multi-line string for readability\n",
        "message = \"\"\"Hi {},\n",
        "\n",
        "This is a reminder that you have {} assignments left to submit before you can graduate. Your current grade is {} and can increase to {} if you submit all assignments before the due date.\n",
        "\n",
        "\"\"\"\n",
        "\n",
        "# Write a for loop that iterates through each set of names, assignments, and grades to print each student's message\n",
        "for name, assignment, grade in zip(names, assignments, grades):\n",
        "    potential_grade = grade + (2 * assignment)\n",
        "    print(message.format(name, assignment, grade, potential_grade))\n"
      ],
      "metadata": {
        "colab": {
          "base_uri": "https://localhost:8080/"
        },
        "id": "YG72JCNXwXy1",
        "outputId": "b6925988-5ba1-449c-91b3-d28af34dc0c2"
      },
      "execution_count": null,
      "outputs": [
        {
          "output_type": "stream",
          "name": "stdout",
          "text": [
            "Enter the names of students separated by commas: hira,ambar,godhawari\n",
            "Enter the number of missing assignments for each student separated by commas: 3,6,0,2\n",
            "Enter the current grades of each student separated by commas: 77,92,88\n",
            "Hi hira,\n",
            "\n",
            "This is a reminder that you have 3 assignments left to submit before you can graduate. Your current grade is 77.0 and can increase to 83.0 if you submit all assignments before the due date.\n",
            "\n",
            "\n",
            "Hi ambar,\n",
            "\n",
            "This is a reminder that you have 6 assignments left to submit before you can graduate. Your current grade is 92.0 and can increase to 104.0 if you submit all assignments before the due date.\n",
            "\n",
            "\n",
            "Hi godhawari,\n",
            "\n",
            "This is a reminder that you have 0 assignments left to submit before you can graduate. Your current grade is 88.0 and can increase to 88.0 if you submit all assignments before the due date.\n",
            "\n",
            "\n"
          ]
        }
      ]
    },
    {
      "cell_type": "code",
      "source": [],
      "metadata": {
        "id": "qr_WOFP808TQ"
      },
      "execution_count": null,
      "outputs": []
    },
    {
      "cell_type": "code",
      "source": [
        "# task-6\n",
        "f = open('Biyo.txt', 'w')\n",
        "f.write(\"We're the knights of the round tableWe dance whenever we're able\")\n",
        "f.close()\n",
        "\n",
        "with open(\"Biyo.txt\") as song:\n",
        "  print(song.read(2))\n",
        "  print(song.read(8))\n",
        "  print(song.read())\n",
        "\n",
        "\n",
        "camelot_lines = []\n",
        "with open(\"Biyo.txt\") as f:\n",
        "    for line in f:\n",
        "      camelot_lines.append(line.strip())\n",
        "print(camelot_lines)"
      ],
      "metadata": {
        "colab": {
          "base_uri": "https://localhost:8080/"
        },
        "id": "aRKbCHg_4GOK",
        "outputId": "69b3fd9b-141c-44f4-cb71-a840bab75e78"
      },
      "execution_count": null,
      "outputs": [
        {
          "output_type": "stream",
          "name": "stdout",
          "text": [
            "We\n",
            "'re the \n",
            "knights of the round tableWe dance whenever we're able\n",
            "[\"We're the knights of the round tableWe dance whenever we're able\"]\n"
          ]
        }
      ]
    },
    {
      "cell_type": "code",
      "source": [
        "#task 07\n",
        "def create_cast_list(filename):\n",
        "    cast_list = []\n",
        "    with open(filename, 'r') as file:\n",
        "        for line in file:\n",
        "            actor_name, _ = line.strip().split(',', 1)\n",
        "            cast_list.append(actor_name)\n",
        "    return cast_list\n",
        "\n",
        "cast_list = create_cast_list('flying_circus_cast.txt')\n",
        "for actor in cast_list:\n",
        "    print(actor)\n"
      ],
      "metadata": {
        "colab": {
          "base_uri": "https://localhost:8080/"
        },
        "id": "IWvazRq8-D2e",
        "outputId": "2a88712a-0d9b-47a9-c024-d7545a644698"
      },
      "execution_count": 51,
      "outputs": [
        {
          "output_type": "stream",
          "name": "stdout",
          "text": [
            "Graham Chapman\n",
            "Eric Idle\n",
            "Terry Jones\n",
            "Michael Palin\n",
            "Terry Gilliam\n",
            "John Cleese\n",
            "Carol Cleveland\n",
            "Ian Davidson\n",
            "John Hughman\n",
            "The Fred Tomlinson Singers\n",
            "Connie Booth\n",
            "Bob Raymond\n",
            "Lyn Ashley\n",
            "Rita Davies\n",
            "Stanley Mason\n",
            "David Ballantyne\n",
            "Donna Reading\n",
            "Peter Brett\n",
            "Maureen Flanagan\n",
            "Katya Wyeth\n",
            "Frank Lester\n",
            "Neil Innes\n",
            "Dick Vosburgh\n",
            "Sandra Richards\n",
            "Julia Breck\n",
            "Nicki Howorth\n",
            "Jimmy Hill\n",
            "Barry Cryer\n",
            "Jeannette Wild\n",
            "Marjorie Wilde\n",
            "Marie Anderson\n",
            "Caron Gardner\n",
            "Nosher Powell\n",
            "Carolae Donoghue\n",
            "Vincent Wong\n",
            "Helena Clayton\n",
            "Nigel Jones\n",
            "Roy Gunson\n",
            "Daphne Davey\n",
            "Stenson Falke\n",
            "Alexander Curry\n",
            "Frank Williams\n",
            "Ralph Wood\n",
            "Rosalind Bailey\n",
            "Marion Mould\n",
            "Sheila Sands\n",
            "Richard Baker\n",
            "Douglas Adams\n",
            "Ewa Aulin\n",
            "Reginald Bosanquet\n",
            "Barbara Lindley\n",
            "Roy Brent\n",
            "Jonas Card\n",
            "Tony Christopher\n",
            "Beulah Hughes\n",
            "Peter Kodak\n",
            "Lulu\n",
            "Jay Neill\n",
            "Graham Skidmore\n",
            "Ringo Starr\n",
            "Fred Tomlinson\n",
            "David Hamilton\n",
            "Suzy Mandel\n",
            "Peter Woods\n"
          ]
        }
      ]
    },
    {
      "cell_type": "code",
      "source": [],
      "metadata": {
        "id": "IE6e0Bmv-9IY"
      },
      "execution_count": null,
      "outputs": []
    }
  ]
}