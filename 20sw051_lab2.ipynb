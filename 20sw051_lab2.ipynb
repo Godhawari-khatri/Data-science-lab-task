{
  "nbformat": 4,
  "nbformat_minor": 0,
  "metadata": {
    "colab": {
      "provenance": [],
      "authorship_tag": "ABX9TyPUxUXfa6HO/QiuTXiKTUNf",
      "include_colab_link": true
    },
    "kernelspec": {
      "name": "python3",
      "display_name": "Python 3"
    },
    "language_info": {
      "name": "python"
    }
  },
  "cells": [
    {
      "cell_type": "markdown",
      "metadata": {
        "id": "view-in-github",
        "colab_type": "text"
      },
      "source": [
        "<a href=\"https://colab.research.google.com/github/Godhawari-khatri/Data-science-lab-task/blob/main/20sw051_lab2.ipynb\" target=\"_parent\"><img src=\"https://colab.research.google.com/assets/colab-badge.svg\" alt=\"Open In Colab\"/></a>"
      ]
    },
    {
      "cell_type": "code",
      "execution_count": 1,
      "metadata": {
        "colab": {
          "base_uri": "https://localhost:8080/"
        },
        "id": "SntytVRxt65a",
        "outputId": "d9014943-952e-41ea-f8a9-237b359c286f"
      },
      "outputs": [
        {
          "output_type": "stream",
          "name": "stdout",
          "text": [
            "5\n",
            "Congratulations!!!! you won the Wooden rabbit\n"
          ]
        }
      ],
      "source": [
        "#Task no-1\n",
        "prize = int(input())\n",
        "\n",
        "if prize >= 1 and prize <= 50:\n",
        "    print('Congratulations!!!! you won the Wooden rabbit')\n",
        "elif prize > 50 and prize <= 150:\n",
        "    print('sorry!! No prize')\n",
        "elif prize > 150 and prize <= 180:\n",
        "    print('Congratulations!!!! you won the Wafer-thin mint')\n",
        "elif prize > 180 and prize <= 200:\n",
        "    print('Congratulations!!!! you won the Penguin')\n",
        "else:\n",
        "    print('Ooh dear!!! No prize this time')"
      ]
    },
    {
      "cell_type": "code",
      "source": [
        "# Task no-2\n",
        "# Guess My Number\n",
        "answer = 42\n",
        "\n",
        "# Take user input for their guess\n",
        "guess = int(input(\"Enter your guess: \"))\n",
        "\n",
        "# Compare the guess with the answer\n",
        "if guess < answer:\n",
        "    print(\"Your guess is too low.\")\n",
        "elif guess > answer:\n",
        "    print(\"Your guess is too high.\")\n",
        "else:\n",
        "    print(\"Congratulations! Your guess is correct!\")\n"
      ],
      "metadata": {
        "colab": {
          "base_uri": "https://localhost:8080/"
        },
        "id": "WIbwVDdCvKm4",
        "outputId": "e3a90743-b93e-42c8-aaf2-177fd15bb2cd"
      },
      "execution_count": 2,
      "outputs": [
        {
          "output_type": "stream",
          "name": "stdout",
          "text": [
            "Enter your guess: 42\n",
            "Congratulations! Your guess is correct!\n"
          ]
        }
      ]
    },
    {
      "cell_type": "code",
      "source": [
        "# Task no-3\n",
        "# Tax Purchase\n",
        "def calculate_tax(purchase_amount, state):\n",
        "    # Define tax rates for different states\n",
        "    tax_rates = {\n",
        "        'CA': 0.075,\n",
        "        'MN': 0.095,\n",
        "        'NY': 0.089\n",
        "    }\n",
        "\n",
        "    # Check if the state is in the tax_rates dictionary\n",
        "    if state in tax_rates:\n",
        "        tax_rate = tax_rates[state]\n",
        "        tax_amount = purchase_amount * tax_rate\n",
        "        total_amount = purchase_amount + tax_amount\n",
        "        print(f\"Purchase amount: ${purchase_amount:.2f}\")\n",
        "        print(f\"Tax rate in {state}: {tax_rate * 100:.1f}%\")\n",
        "        print(f\"Tax amount: ${tax_amount:.2f}\")\n",
        "        print(f\"Total amount after tax: ${total_amount:.2f}\")\n",
        "    else:\n",
        "        print(\"Invalid state. Please enter a valid state code (CA, MN, or NY).\")\n",
        "\n",
        "# Take user input for purchase amount and state\n",
        "purchase_amount = float(input(\"Enter the purchase amount: $\"))\n",
        "state = input(\"Enter your state (CA, MN, or NY): \")\n",
        "\n",
        "# Call the function to calculate tax\n",
        "calculate_tax(purchase_amount, state)"
      ],
      "metadata": {
        "colab": {
          "base_uri": "https://localhost:8080/"
        },
        "id": "8Rh-YRSgvlIt",
        "outputId": "f2d98cfc-0e1f-4679-9bed-64c83a910668"
      },
      "execution_count": 4,
      "outputs": [
        {
          "output_type": "stream",
          "name": "stdout",
          "text": [
            "Enter the purchase amount: $43\n",
            "Enter your state (CA, MN, or NY): CA\n",
            "Purchase amount: $43.00\n",
            "Tax rate in CA: 7.5%\n",
            "Tax amount: $3.23\n",
            "Total amount after tax: $46.23\n"
          ]
        }
      ]
    },
    {
      "cell_type": "code",
      "source": [
        "# Task no-4\n",
        "my_list = [\"ram\",\"santosh\",\"laxshman\",\"bheemraj\",\"arjun\"]\n",
        "\n",
        "for element in my_list:\n",
        "    print(element)"
      ],
      "metadata": {
        "colab": {
          "base_uri": "https://localhost:8080/"
        },
        "id": "lsDIl164wVa8",
        "outputId": "7087eb1c-9776-4dd3-e5bc-f7f04db6e2c4"
      },
      "execution_count": 6,
      "outputs": [
        {
          "output_type": "stream",
          "name": "stdout",
          "text": [
            "ram\n",
            "santosh\n",
            "laxshman\n",
            "bheemraj\n",
            "arjun\n"
          ]
        }
      ]
    },
    {
      "cell_type": "code",
      "source": [
        "# Task no-5\n",
        "# Multiples of 5\n",
        "for number in range(5, 31, 5):\n",
        "    print(number)"
      ],
      "metadata": {
        "colab": {
          "base_uri": "https://localhost:8080/"
        },
        "id": "nMCHluquxKcg",
        "outputId": "00ea9435-f8b9-42ed-b04e-2ca98155afea"
      },
      "execution_count": 7,
      "outputs": [
        {
          "output_type": "stream",
          "name": "stdout",
          "text": [
            "5\n",
            "10\n",
            "15\n",
            "20\n",
            "25\n",
            "30\n"
          ]
        }
      ]
    },
    {
      "cell_type": "code",
      "source": [
        "# Task no-6\n",
        "# Extract First Names\n",
        "# Sample list of full names\n",
        "names = [\"Godhawari khatri\", \"Ayesha ali\", \"Hira khuwaja\", \"Ambar arain\"]\n",
        "\n",
        "# List comprehension to extract first names in lowercase\n",
        "first_names = [name.split()[0].lower() for name in names]\n",
        "\n",
        "# Printing the result\n",
        "print(first_names)"
      ],
      "metadata": {
        "colab": {
          "base_uri": "https://localhost:8080/"
        },
        "id": "x9rgL4ZNxe5P",
        "outputId": "4de26121-b242-4f07-d64f-35118719607b"
      },
      "execution_count": 9,
      "outputs": [
        {
          "output_type": "stream",
          "name": "stdout",
          "text": [
            "['godhawari', 'ayesha', 'hira', 'ambar']\n"
          ]
        }
      ]
    },
    {
      "cell_type": "code",
      "source": [
        "# Task no-7\n",
        "# Multiples of Three\n",
        "multiples_3 = [3 * i for i in range(1, 21)]\n",
        "print(multiples_3)"
      ],
      "metadata": {
        "colab": {
          "base_uri": "https://localhost:8080/"
        },
        "id": "Mdn6l0RayH1J",
        "outputId": "58b69b04-2359-4137-b6e2-89586e7587e8"
      },
      "execution_count": 12,
      "outputs": [
        {
          "output_type": "stream",
          "name": "stdout",
          "text": [
            "[3, 6, 9, 12, 15, 18, 21, 24, 27, 30, 33, 36, 39, 42, 45, 48, 51, 54, 57, 60]\n"
          ]
        }
      ]
    },
    {
      "cell_type": "code",
      "source": [
        "# Task no-8\n",
        "# Filter Names by Scores\n",
        "scores = {\"Rick Sanchez\": 70, \"Morty Smith\": 35, \"Summer Smith\": 82, \"Jerry Smith\": 23, \"Beth Smith\": 98}\n",
        "\n",
        "passed = [name for name, score in scores.items() if score >= 65]\n",
        "\n",
        "print(passed)"
      ],
      "metadata": {
        "colab": {
          "base_uri": "https://localhost:8080/"
        },
        "id": "OoLFCogjzHR_",
        "outputId": "c40f8d58-32be-45b4-8156-e6267e8d9780"
      },
      "execution_count": 13,
      "outputs": [
        {
          "output_type": "stream",
          "name": "stdout",
          "text": [
            "['Rick Sanchez', 'Summer Smith', 'Beth Smith']\n"
          ]
        }
      ]
    },
    {
      "cell_type": "code",
      "source": [
        "# Task no-9\n",
        "# Zip Lists to a Dictionary\n",
        "names = [\"Anjli\", \"dheeraj\", \"Charan\", \"Dhiren\", \"Anand\"]\n",
        "heights = [165, 180, 175, 170, 160]\n",
        "\n",
        "# Using zip to create the dictionary\n",
        "cast = dict(zip(names, heights))\n",
        "\n",
        "print(cast)"
      ],
      "metadata": {
        "colab": {
          "base_uri": "https://localhost:8080/"
        },
        "id": "qsbdoNQ3zrHR",
        "outputId": "d2c0b605-6473-445d-cb8f-2088e728e46b"
      },
      "execution_count": 15,
      "outputs": [
        {
          "output_type": "stream",
          "name": "stdout",
          "text": [
            "{'Anjli': 165, 'dheeraj': 180, 'Charan': 175, 'Dhiren': 170, 'Anand': 160}\n"
          ]
        }
      ]
    },
    {
      "cell_type": "code",
      "source": [
        "# Task no-10\n",
        "cast = {'Alina ': 165, 'Bhagwanti ': 180, 'Chandni ': 175, 'Dhani ': 170, 'kuasar ': 160}\n",
        "\n",
        "# Using enumerate and list comprehension to modify the cast list\n",
        "modified_cast = [name + str(height) for name, height in cast.items()]\n",
        "\n",
        "print(modified_cast)"
      ],
      "metadata": {
        "colab": {
          "base_uri": "https://localhost:8080/"
        },
        "id": "NYs9s6Z30J8e",
        "outputId": "95886038-7218-4482-ed46-aeccfbceffe1"
      },
      "execution_count": 16,
      "outputs": [
        {
          "output_type": "stream",
          "name": "stdout",
          "text": [
            "['Alina 165', 'Bhagwanti 180', 'Chandni 175', 'Dhani 170', 'kuasar 160']\n"
          ]
        }
      ]
    }
  ]
}